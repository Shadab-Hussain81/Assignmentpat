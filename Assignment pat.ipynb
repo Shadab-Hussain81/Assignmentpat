{
 "cells": [
  {
   "cell_type": "markdown",
   "id": "ffe98ff0-6e68-4004-8217-fd5badcd102b",
   "metadata": {},
   "source": [
    "Que 1. What are keywords in python? Using the keyword library, print all the python keywords."
   ]
  },
  {
   "cell_type": "markdown",
   "id": "968acfc4-e61e-4a05-a699-167aa415a824",
   "metadata": {},
   "source": [
    "Ans  keywords are reserved words that have special meanings and are used to define the syntax and structure of the language. These keywords cannot be used as variable names or identifiers because they are already predefined and have specific functionalities."
   ]
  },
  {
   "cell_type": "code",
   "execution_count": 1,
   "id": "7f339413-464b-45cb-95e2-e6a469588f44",
   "metadata": {},
   "outputs": [
    {
     "name": "stdout",
     "output_type": "stream",
     "text": [
      "False\n",
      "None\n",
      "True\n",
      "and\n",
      "as\n",
      "assert\n",
      "async\n",
      "await\n",
      "break\n",
      "class\n",
      "continue\n",
      "def\n",
      "del\n",
      "elif\n",
      "else\n",
      "except\n",
      "finally\n",
      "for\n",
      "from\n",
      "global\n",
      "if\n",
      "import\n",
      "in\n",
      "is\n",
      "lambda\n",
      "nonlocal\n",
      "not\n",
      "or\n",
      "pass\n",
      "raise\n",
      "return\n",
      "try\n",
      "while\n",
      "with\n",
      "yield\n"
     ]
    }
   ],
   "source": [
    "import keyword\n",
    "\n",
    "# Get all Python keywords\n",
    "keywords = keyword.kwlist\n",
    "\n",
    "# Print all Python keywords\n",
    "for kw in keywords:\n",
    "    print(kw)"
   ]
  },
  {
   "cell_type": "markdown",
   "id": "6573717d-b6c7-41d8-a0e9-421a44a10c97",
   "metadata": {},
   "source": [
    "Que 2. What are the rules to create variables in python?"
   ]
  },
  {
   "cell_type": "markdown",
   "id": "367db63d-30d2-4a67-b491-c755ba916cd0",
   "metadata": {},
   "source": [
    "Ans Variable Names:\n",
    "\n",
    "Variable names must start with a letter (a-z, A-Z) or an underscore (_).\n",
    "The first character can be followed by letters, underscores, or digits (0-9).\n",
    "Python is case-sensitive, so variables named \"myVar\" and \"myvar\" are considered different.\n",
    "Avoid using reserved words or built-in function names as variable names.\n",
    "Assigning Values:\n",
    "\n",
    "Variables are created when you assign a value to them using the assignment operator (=).\n",
    "The value assigned can be of any data type, such as numbers, strings, lists, etc.\n",
    "Data Types:\n",
    "\n",
    "Python is dynamically typed, meaning you don't need to explicitly declare the data type of a variable.\n",
    "The data type is inferred based on the value assigned to the variable.\n",
    "You can reassign a variable to a value of a different data type without any issues.\n",
    "Naming Conventions:\n",
    "\n",
    "It's good practice to follow certain naming conventions to make your code more readable.\n",
    "Use lowercase letters and underscores to separate words in variable names (e.g., my_variable).\n",
    "For constants, use uppercase letters with underscores (e.g., PI = 3.14159).\n",
    "Choose meaningful and descriptive names to indicate the purpose of the variable."
   ]
  },
  {
   "cell_type": "markdown",
   "id": "c25a23cb-2dac-4e5d-8c78-18b92d7281a8",
   "metadata": {},
   "source": [
    "Q.3. What are the standards and conventions followed for the nomenclature of variables in\n",
    "python to improve code readability and maintainability?"
   ]
  },
  {
   "cell_type": "markdown",
   "id": "12d4fbf2-4887-4f29-a886-79974702278e",
   "metadata": {},
   "source": [
    "Ans  Variable Names: Use descriptive and meaningful names that reflect the purpose or content of the variable. Avoid single-letter variable names (except for simple loop counters). For example, use \"total_students\" instead of \"ts\".\n",
    "\n",
    "Case Styles:\n",
    "\n",
    "Use lowercase letters for variable names, except for constants, which should be in uppercase. For example, use \"count\" or \"student_name\", but \"MAX_VALUE\".\n",
    "For multi-word variable names, separate words with underscores (\"snake_case\"). For example, use \"first_name\" or \"total_count\".\n",
    "Avoid Reserved Words: Do not use Python reserved words (keywords) as variable names. For example, avoid using \"if\", \"for\", \"while\", etc., as variable names.\n",
    "\n",
    "Function and Method Names: Follow the same conventions as variable names (descriptive, lowercase, snake_case). Use verbs or verb phrases to describe actions. For example, use \"calculate_total\" or \"get_student_name\".\n",
    "\n",
    "Class Names: Use the CapWords convention (also known as CamelCase) for class names, where the first letter of each word is capitalized. For example, use \"MyClass\" or \"PersonInfo\".\n",
    "\n",
    "Constants: Constants are usually defined at the module level and should be named in uppercase with underscores separating words. For example, use \"PI\" or \"MAX_ATTEMPTS\".\n",
    "\n",
    "Private Variables: By convention, variables that are intended to be private (not intended for use outside of the class) should start with a single underscore. For example, \"_private_variable\".\n",
    "\n",
    "Avoid Ambiguous Names: Choose variable names that are not easily confused with each other. For instance, using \"l\" (lowercase L) as a variable name can be mistaken for \"1\" (the number one) in some fonts.\n",
    "\n",
    "Indentation and Line Length: Maintain consistent indentation using spaces (typically four spaces). Limit your lines to a maximum of 79 characters for improved readability.\n",
    "\n",
    "Documentation: Use comments and docstrings to provide explanations and document the purpose, usage, and behavior of variables."
   ]
  },
  {
   "cell_type": "markdown",
   "id": "953cb733-bda1-4a16-839b-59991696ceca",
   "metadata": {},
   "source": [
    "Que 4. What will happen if a keyword is used as a variable name?"
   ]
  },
  {
   "cell_type": "markdown",
   "id": "f3354956-920f-4963-9ec1-0d0d167ee281",
   "metadata": {},
   "source": [
    "Ans If a keyword is used as a variable name in a programming language, it will typically result in a syntax error or a compilation error. Keywords are reserved words in a programming language that have predefined meanings and are used to define the syntax and structure of the language. They cannot be used as variable names because doing so would lead to ambiguity and confusion in the code.\n",
    "\n",
    "For example, in Python, if you try to use a keyword like \"if\" or \"for\" as a variable name, you will get a \"SyntaxError: invalid syntax\" message. Similarly, in languages like Java or C++, using keywords like \"int\" or \"while\" as variable names will result in a compilation error."
   ]
  },
  {
   "cell_type": "markdown",
   "id": "47191bf3-00c9-44a4-8aed-ea1a03834128",
   "metadata": {},
   "source": [
    "Q.5. For what purpose def keyword is used?"
   ]
  },
  {
   "cell_type": "markdown",
   "id": "22611c06-22e4-4c39-85e5-a7e9aea7c2d9",
   "metadata": {},
   "source": [
    "Ans  The def keyword in Python is used to define a function. It is followed by the function name and a set of parentheses that may contain parameters for the function. The function definition is typically followed by a colon (:) and an indented block of code that makes up the function's body."
   ]
  },
  {
   "cell_type": "code",
   "execution_count": 2,
   "id": "910feb84-80c3-4968-8cf5-c8b7bf2c916d",
   "metadata": {},
   "outputs": [
    {
     "name": "stdout",
     "output_type": "stream",
     "text": [
      "Hello, Alice!\n"
     ]
    }
   ],
   "source": [
    "#Example\n",
    "def greet(name):\n",
    "    print(\"Hello, \" + name + \"!\")\n",
    "\n",
    "greet(\"Alice\")"
   ]
  },
  {
   "cell_type": "markdown",
   "id": "e36a03c7-0475-4e4c-ae4f-e4007a49f9e9",
   "metadata": {},
   "source": [
    "Q.6. What is the operation of this special character ‘\\’?"
   ]
  },
  {
   "cell_type": "markdown",
   "id": "c28900c7-23d0-4e15-abb4-c15df9434847",
   "metadata": {},
   "source": [
    "Escape character: The backslash is often used as an escape character in programming languages to indicate that the following character should be treated specially. For example, if you want to include a double quote within a string enclosed in double quotes, you can use the backslash to escape the inner double quote, like this: \"This is a \"quoted\" string.\"\n",
    "\n",
    "Special character representation: In some programming languages, the backslash is used to represent special characters. For instance, '\\n' represents a newline character, '\\t' represents a tab character, and '\\r' represents a carriage return.\n",
    "\n",
    "Directory and file paths: In file systems, the backslash is commonly used to separate directories and subdirectories in a file path. However, it is important to note that the usage of backslashes in file paths can vary depending on the operating system. Windows typically uses backslashes (e.g., C:\\Program Files), while Unix-based systems like Linux and macOS use forward slashes (e.g., /usr/local/bin/).\n",
    "\n",
    "Regular expressions: Backslashes are used in regular expressions to give special meaning to certain characters or character sequences. For example, '\\d' represents any digit in regular expressions.Ans "
   ]
  },
  {
   "cell_type": "markdown",
   "id": "80a7a5df-e815-4f4b-ad9e-73937f32ac7b",
   "metadata": {},
   "source": [
    "Q.7. Give an example of the following conditions:\n",
    "(i) Homogeneous list\n",
    "(ii) Heterogeneous set\n",
    "(iii) Homogeneous tuple"
   ]
  },
  {
   "cell_type": "markdown",
   "id": "e5e55d7f-4851-44e7-9b77-6b7ea303bec5",
   "metadata": {},
   "source": [
    "Ans (i) Homogeneous list:\n",
    "An example of a homogeneous list would be a list of integers [1, 2, 3, 4, 5]. In this list, all the elements are of the same type, which is an integer.\n",
    "\n",
    "(ii) Heterogeneous set:\n",
    "A heterogeneous set is a collection of elements that can be of different types. For example, {1, \"apple\", 3.14, True} is a heterogeneous set. It contains an integer (1), a string (\"apple\"), a floating-point number (3.14), and a boolean value (True).\n",
    "\n",
    "(iii) Homogeneous tuple:\n",
    "A homogeneous tuple is a tuple where all the elements are of the same type. For instance, (10, 20, 30, 40, 50) is a homogeneous tuple of integers. Each element in the tuple is an integer, making it a homogeneous tuple."
   ]
  },
  {
   "cell_type": "markdown",
   "id": "88021fea-0e3b-4afe-a20b-95b4f0ac15ae",
   "metadata": {},
   "source": [
    "Q.8. Explain the mutable and immutable data types with proper explanation & examples."
   ]
  },
  {
   "cell_type": "markdown",
   "id": "f585fda3-d70b-4b80-8114-59ea4f72a9bc",
   "metadata": {},
   "source": [
    "Ans 1.Mutable Data Types:\n",
    "Mutable data types are those whose values can be modified after they are created. This means that you can change the internal state or content of the object without creating a new object. Examples of mutable data types in many programming languages include lists, sets, and dictionaries."
   ]
  },
  {
   "cell_type": "code",
   "execution_count": 3,
   "id": "0ba79eaa-70dd-4fee-9d37-fe0048b51c2c",
   "metadata": {},
   "outputs": [
    {
     "name": "stdout",
     "output_type": "stream",
     "text": [
      "[1, 2, 3]\n",
      "[1, 2, 3, 4]\n",
      "[5, 2, 3, 4]\n"
     ]
    }
   ],
   "source": [
    "#an example using Python:\n",
    "# List is a mutable data type\n",
    "my_list = [1, 2, 3]\n",
    "print(my_list)  # Output: [1, 2, 3]\n",
    "\n",
    "my_list.append(4)\n",
    "print(my_list)  # Output: [1, 2, 3, 4]\n",
    "\n",
    "my_list[0] = 5\n",
    "print(my_list)  # Output: [5, 2, 3, 4]"
   ]
  },
  {
   "cell_type": "markdown",
   "id": "e545a82a-d0d6-4639-96e7-ab3120fa7274",
   "metadata": {},
   "source": [
    "2.Immutable Data Types:\n",
    "Immutable data types, on the other hand, are those whose values cannot be changed after they are created. If you need to modify the value of an immutable object, you have to create a new object with the updated value. Examples of immutable data types include integers, floats, strings, and tuples."
   ]
  },
  {
   "cell_type": "code",
   "execution_count": 7,
   "id": "ecf6bb8d-35d1-4d3f-a4fe-abab16bf45d8",
   "metadata": {},
   "outputs": [
    {
     "name": "stdout",
     "output_type": "stream",
     "text": [
      "Hello\n",
      "Hello World\n",
      "(1, 2, 3)\n"
     ]
    }
   ],
   "source": [
    "# String is an immutable data type\n",
    "my_string = \"Hello\"\n",
    "print(my_string)  # Output: Hello\n",
    "\n",
    "my_string = my_string + \" World\"\n",
    "print(my_string)  # Output: Hello World\n",
    "\n",
    "# Tuple is an immutable data type\n",
    "my_tuple = (1, 2, 3)\n",
    "print(my_tuple)  # Output: (1, 2, 3)\n",
    "\n",
    "# Trying to modify the tuple will raise an error\n",
    "#my_tuple[0] = 4  # Raises TypeError: 'tuple' object does not support item assignment"
   ]
  },
  {
   "cell_type": "code",
   "execution_count": 6,
   "id": "468b42f8-e92f-4b59-8940-393998113260",
   "metadata": {},
   "outputs": [
    {
     "name": "stdout",
     "output_type": "stream",
     "text": [
      "*\n",
      "***\n",
      "*****\n",
      "*******\n",
      "*********\n"
     ]
    }
   ],
   "source": [
    "#Q.9. Write a code to create the given structure using only for loop.\n",
    "'''\n",
    "*\n",
    "***\n",
    "*****\n",
    "*******\n",
    "*********\n",
    "'''\n",
    "rows = 5\n",
    "\n",
    "for i in range(rows):\n",
    "    for j in range(2*i + 1):\n",
    "        print(\"*\", end=\"\")\n",
    "    print()\n"
   ]
  },
  {
   "cell_type": "code",
   "execution_count": null,
   "id": "52bc5174-1152-4d3f-acf1-de9a13b3f7d1",
   "metadata": {},
   "outputs": [],
   "source": []
  }
 ],
 "metadata": {
  "kernelspec": {
   "display_name": "Python 3 (ipykernel)",
   "language": "python",
   "name": "python3"
  },
  "language_info": {
   "codemirror_mode": {
    "name": "ipython",
    "version": 3
   },
   "file_extension": ".py",
   "mimetype": "text/x-python",
   "name": "python",
   "nbconvert_exporter": "python",
   "pygments_lexer": "ipython3",
   "version": "3.10.6"
  }
 },
 "nbformat": 4,
 "nbformat_minor": 5
}
